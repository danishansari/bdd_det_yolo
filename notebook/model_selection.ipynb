{
 "cells": [
  {
   "cell_type": "markdown",
   "metadata": {},
   "source": [
    "## Detection (Yolov5) on BDD-100k-Dataset\n",
    "\n",
    "Based on findings from dataset analysis, there are mainly two challenges:-\n",
    "* 1. Data imbalance\n",
    "* 2. Minority classes are mostly very small"
   ]
  },
  {
   "cell_type": "markdown",
   "metadata": {},
   "source": [
    "### List of avaialable Pre-trained models and their metric"
   ]
  },
  {
   "cell_type": "markdown",
   "metadata": {},
   "source": [
    "| # |  MODEL      | Backbone  | AP (Box) |\n",
    "|---|-------------|-----------|----------|\n",
    "| 1 | Faster RCNN | R-101-FPN |  32.61   |\n",
    "| 2 | RetinaNet   | R-101-FPN |  31.29   |\n",
    "| 3 | Cacase RCNN | R-101-FPN |  33.57   |\n",
    "| 4 | FCOS        | R-50-FPN  |  30.13   |\n",
    "| 5 | DCovNets-v2 | R-50-FPN  |  33.21   |\n",
    "| 6 | Libra-RCNN  | R101-FPN  |  32.24   |\n",
    "| 7 | HRNet       | w32       |  33.97   |\n",
    "| 8 | ATSS        | R-101-FPN |  33.80   |\n",
    "| 9 | Sparse RCNN | R-101-FPN |  32.18   |\n",
    "|10 | DyHead      | R-101-FPN |  34.61   |\n",
    "|11 | Swin-T      | C-RCNN    |  35.95   |\n",
    "|12 | PVT         | S         |  31.23   |\n",
    "|13 | PVT2        | B2        |  32.98   |\n",
    "|14 |R-StrikesBack| R-50-FPN  |  32.48   |\n",
    "|15 | ConvNext-S  | C-RCNN    | `36.11`  |\n",
    "\n",
    "We see here the winner is `ConvNext-S` model with AP = 36%, but one model which is not mentioned here claims to be having AP more than 40% which is `YoloV5` with `s` variant which is much smaller than resnet-50 in no of parameters."
   ]
  },
  {
   "cell_type": "markdown",
   "metadata": {},
   "source": [
    "#### Preference of Yolov5 over other model\n",
    "* Faster - 7.3 millions prameters over 23 million Resnet-50\n",
    "* High perfomance in term of models AP.\n",
    "* Runtime augmentation capabilities.\n",
    "* Handles data imbalance by using fancier loss function (Focal Loss) and optimizers.\n",
    "* User FPN for scale invariant training.\n",
    "* Anchor techniques to learn shapes of object better.\n",
    "* Nice package from ultralytics, can be installed with `pip`.\n",
    "* Easy to use APIs for train, inference and integration.\n",
    "* APIs for model conversion to `ONNX` and other model acceletrator like `tensorrt` and `OpenVino`."
   ]
  }
 ],
 "metadata": {
  "kernelspec": {
   "display_name": "yolo",
   "language": "python",
   "name": "python3"
  },
  "language_info": {
   "codemirror_mode": {
    "name": "ipython",
    "version": 3
   },
   "file_extension": ".py",
   "mimetype": "text/x-python",
   "name": "python",
   "nbconvert_exporter": "python",
   "pygments_lexer": "ipython3",
   "version": "3.11.7"
  }
 },
 "nbformat": 4,
 "nbformat_minor": 2
}
